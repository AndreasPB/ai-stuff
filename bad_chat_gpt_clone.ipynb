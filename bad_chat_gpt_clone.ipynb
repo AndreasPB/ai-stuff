{
  "nbformat": 4,
  "nbformat_minor": 0,
  "metadata": {
    "colab": {
      "provenance": [],
      "mount_file_id": "1Z4P5L_CnPUbR3DpiBMuWskzVU8xYEWLb",
      "authorship_tag": "ABX9TyN5mAtoXfkn/XeQoQ2N+OYd",
      "include_colab_link": true
    },
    "kernelspec": {
      "name": "python3",
      "display_name": "Python 3"
    },
    "language_info": {
      "name": "python"
    }
  },
  "cells": [
    {
      "cell_type": "markdown",
      "metadata": {
        "id": "view-in-github",
        "colab_type": "text"
      },
      "source": [
        "<a href=\"https://colab.research.google.com/github/AndreasPB/ai-stuff/blob/master/bad_chat_gpt_clone.ipynb\" target=\"_parent\"><img src=\"https://colab.research.google.com/assets/colab-badge.svg\" alt=\"Open In Colab\"/></a>"
      ]
    },
    {
      "cell_type": "markdown",
      "source": [
        "# Building a bad Generatively Pretrained Transformer (GPT) by following https://youtu.be/kCc8FmEb1nYs"
      ],
      "metadata": {
        "id": "P1OiC3AUy4he"
      }
    },
    {
      "cell_type": "code",
      "source": [
        "# Read some txt dataset\n",
        "with open('WikiQA-train.txt', 'r', encoding='utf-8') as f:\n",
        "    text = f.read()"
      ],
      "metadata": {
        "id": "0zF_qdhstusi"
      },
      "execution_count": 48,
      "outputs": []
    },
    {
      "cell_type": "code",
      "source": [
        "print(\"length of dataset in characters: \", len(text))"
      ],
      "metadata": {
        "colab": {
          "base_uri": "https://localhost:8080/"
        },
        "id": "WvWiSYzxtxLk",
        "outputId": "d3a40971-18c9-40ff-a5e9-bef8396a895e"
      },
      "execution_count": 49,
      "outputs": [
        {
          "output_type": "stream",
          "name": "stdout",
          "text": [
            "length of dataset in characters:  3668541\n"
          ]
        }
      ]
    },
    {
      "cell_type": "code",
      "source": [
        "# Let's look at the first 1000 characters\n",
        "print(text[:1000])"
      ],
      "metadata": {
        "colab": {
          "base_uri": "https://localhost:8080/"
        },
        "id": "ydJX1MzJtzaP",
        "outputId": "324866f1-673d-4abe-d7f7-d4493e2e9f68"
      },
      "execution_count": 50,
      "outputs": [
        {
          "output_type": "stream",
          "name": "stdout",
          "text": [
            "how are glacier caves formed ?\tA partly submerged glacier cave on Perito Moreno Glacier .\t0\n",
            "how are glacier caves formed ?\tThe ice facade is approximately 60 m high\t0\n",
            "how are glacier caves formed ?\tIce formations in the Titlis glacier cave\t0\n",
            "how are glacier caves formed ?\tA glacier cave is a cave formed within the ice of a glacier .\t1\n",
            "how are glacier caves formed ?\tGlacier caves are often called ice caves , but this term is properly used to describe bedrock caves that contain year-round ice .\t0\n",
            "How are the directions of the velocity and force vectors related in a circular motion\tIn physics , circular motion is a movement of an object along the circumference of a circle or rotation along a circular path .\t0\n",
            "How are the directions of the velocity and force vectors related in a circular motion\tIt can be uniform , with constant angular rate of rotation ( and constant speed ) , or non-uniform with a changing rate of rotation .\t0\n",
            "How are the directions of the velocity and force vectors relat\n"
          ]
        }
      ]
    },
    {
      "cell_type": "code",
      "source": [
        "# Here are all the unique characters that occur in this text\n",
        "chars = sorted(set(text))\n",
        "vocab_size = len(chars)\n",
        "print(''.join(chars))\n",
        "print(vocab_size)"
      ],
      "metadata": {
        "colab": {
          "base_uri": "https://localhost:8080/"
        },
        "id": "XnhYIfTbt4Yg",
        "outputId": "149cec20-71b8-4c22-f66a-901c5ce2eee3"
      },
      "execution_count": 51,
      "outputs": [
        {
          "output_type": "stream",
          "name": "stdout",
          "text": [
            "\t\n",
            " !#$%&'()*+,-./0123456789:;<=>?@ABCDEFGHIJKLMNOPQRSTUVWXYZ[\\]_`abcdefghijklmnopqrstuvwxyz{|}~¢£§­®°±·ÁÉ×ØàáâãäæçèéêëíïðñóôöøùúûüĀāąćčĐēīłňōŚşšūƎưǎɔɪʌʔʻʾʿˀˈάέήίαβγεζηθικλμνξοπρςστυφχψωόύώАаклсяאבדהוזחטילםמןקרשरशी्ชมยรวศาิีเምሴḥṭạảấễệốồộờủỹἀἈἐἱἸὁὐὰὶὸὺ‐–—‘’“”†•‰′⁄€−≈≤≥┌┐★♀♂♋♙♟がなひらカタナ一劉勝圖安小李萬言龍원학\n",
            "294\n"
          ]
        }
      ]
    },
    {
      "cell_type": "code",
      "source": [
        "stoi: dict[str, int] = { ch: i for i, ch in enumerate(chars) }\n",
        "itos: dict[int, str] = { i: ch for i, ch in enumerate(chars) }\n",
        "\n",
        "def encode(s: str) -> list[int]:\n",
        "    return [stoi[c] for c in s]\n",
        "\n",
        "def decode(l: list) -> str:\n",
        "    return \"\".join([itos[i] for i in l])\n",
        "\n",
        "sentence = \"haha lol\"\n",
        "print(\"encoded:\", encode(sentence))\n",
        "print(\"decoded:\", decode(encode(sentence)))"
      ],
      "metadata": {
        "colab": {
          "base_uri": "https://localhost:8080/"
        },
        "id": "v6MIr9V4vb5I",
        "outputId": "5ea01b33-96bd-47be-f03d-cb3e6bd95ada"
      },
      "execution_count": 52,
      "outputs": [
        {
          "output_type": "stream",
          "name": "stdout",
          "text": [
            "encoded: [72, 65, 72, 65, 2, 76, 79, 76]\n",
            "decoded: haha lol\n"
          ]
        }
      ]
    },
    {
      "cell_type": "code",
      "source": [
        "import torch\n",
        "\n",
        "data = torch.tensor(encode(text), dtype=torch.long)\n",
        "print(data.shape, data.dtype)\n",
        "print(data[:100])"
      ],
      "metadata": {
        "colab": {
          "base_uri": "https://localhost:8080/"
        },
        "id": "1cUNSV-JwjGm",
        "outputId": "d1554cb5-b176-43b4-db72-886db87ee911"
      },
      "execution_count": 53,
      "outputs": [
        {
          "output_type": "stream",
          "name": "stdout",
          "text": [
            "torch.Size([3668541]) torch.int64\n",
            "tensor([72, 79, 87,  2, 65, 82, 69,  2, 71, 76, 65, 67, 73, 69, 82,  2, 67, 65,\n",
            "        86, 69, 83,  2, 70, 79, 82, 77, 69, 68,  2, 32,  0, 34,  2, 80, 65, 82,\n",
            "        84, 76, 89,  2, 83, 85, 66, 77, 69, 82, 71, 69, 68,  2, 71, 76, 65, 67,\n",
            "        73, 69, 82,  2, 67, 65, 86, 69,  2, 79, 78,  2, 49, 69, 82, 73, 84, 79,\n",
            "         2, 46, 79, 82, 69, 78, 79,  2, 40, 76, 65, 67, 73, 69, 82,  2, 15,  0,\n",
            "        17,  1, 72, 79, 87,  2, 65, 82, 69,  2])\n"
          ]
        }
      ]
    },
    {
      "cell_type": "code",
      "source": [
        "# Split it up\n",
        "n = int(0.9 * len(data))\n",
        "\n",
        "train_data = data[:n]\n",
        "val_data = data[n:]"
      ],
      "metadata": {
        "id": "B3VGr8nG2Kg0"
      },
      "execution_count": 54,
      "outputs": []
    },
    {
      "cell_type": "code",
      "source": [
        "block_size = 8\n",
        "train_data[:block_size + 1]"
      ],
      "metadata": {
        "colab": {
          "base_uri": "https://localhost:8080/"
        },
        "id": "wxr5NNvu3L1O",
        "outputId": "ca8757b0-1543-451e-bfa1-bc3c19cbe452"
      },
      "execution_count": 55,
      "outputs": [
        {
          "output_type": "execute_result",
          "data": {
            "text/plain": [
              "tensor([72, 79, 87,  2, 65, 82, 69,  2, 71])"
            ]
          },
          "metadata": {},
          "execution_count": 55
        }
      ]
    },
    {
      "cell_type": "code",
      "source": [
        "x = train_data[:block_size]\n",
        "y = train_data[1:block_size + 1]\n",
        "for t in range(block_size):\n",
        "    context = x[:t + 1]\n",
        "    target = y[t]\n",
        "    print(f\"When input context: {context}, the target is: {target}\")"
      ],
      "metadata": {
        "colab": {
          "base_uri": "https://localhost:8080/"
        },
        "id": "Ym_Oq_w83eL8",
        "outputId": "7bfcffee-e44c-4e08-8032-c4749a640240"
      },
      "execution_count": 56,
      "outputs": [
        {
          "output_type": "stream",
          "name": "stdout",
          "text": [
            "When input context: tensor([72]), the target is: 79\n",
            "When input context: tensor([72, 79]), the target is: 87\n",
            "When input context: tensor([72, 79, 87]), the target is: 2\n",
            "When input context: tensor([72, 79, 87,  2]), the target is: 65\n",
            "When input context: tensor([72, 79, 87,  2, 65]), the target is: 82\n",
            "When input context: tensor([72, 79, 87,  2, 65, 82]), the target is: 69\n",
            "When input context: tensor([72, 79, 87,  2, 65, 82, 69]), the target is: 2\n",
            "When input context: tensor([72, 79, 87,  2, 65, 82, 69,  2]), the target is: 71\n"
          ]
        }
      ]
    },
    {
      "cell_type": "code",
      "source": [
        "from torch.functional import Tensor\n",
        "\n",
        "batch_size = 4  # Amount of parallel processes\n",
        "block_size = 4  # Max context length for a prediction\n",
        "\n",
        "def get_batch(split: str) -> tuple[Tensor, Tensor]:\n",
        "    # Generate a small batch of data (inputs x and targets y)\n",
        "\n",
        "    data = train_data if split == \"train\" else val_data\n",
        "\n",
        "    ix = torch.randint(len(data) - block_size, (batch_size,))\n",
        "    x = torch.stack([data[i:i + block_size] for i in ix])\n",
        "    y = torch.stack([data[i + 1:i + block_size + 1] for i in ix])\n",
        "\n",
        "    return x, y\n",
        "\n",
        "xb, yb = get_batch(\"train\")\n",
        "print(f\"inputs: \\n{xb.shape} \\n{xb}\")\n",
        "print(f\"targets: \\n{yb.shape} \\n{yb}\")\n",
        "\n",
        "print(\"\\n-----\\n\")\n",
        "\n",
        "for b in range(batch_size):  # Batch dimension\n",
        "    for t in range(block_size):  # Time dimension\n",
        "        context = xb[b, :t + 1]\n",
        "        target = yb[b, t]\n",
        "        print(f\"When input is: {context.tolist()}, the target is: {target}\")"
      ],
      "metadata": {
        "colab": {
          "base_uri": "https://localhost:8080/"
        },
        "id": "AwuLZq6P4OSA",
        "outputId": "bc1dfecf-d062-4922-c6bc-9e822fa11b2e"
      },
      "execution_count": 64,
      "outputs": [
        {
          "output_type": "stream",
          "name": "stdout",
          "text": [
            "inputs: \n",
            "torch.Size([4, 4]) \n",
            "tensor([[76, 65, 84, 73],\n",
            "        [65, 84, 69, 68],\n",
            "        [78,  2, 76, 73],\n",
            "        [ 2, 83, 89, 83]])\n",
            "targets: \n",
            "torch.Size([4, 4]) \n",
            "tensor([[65, 84, 73, 86],\n",
            "        [84, 69, 68,  2],\n",
            "        [ 2, 76, 73, 66],\n",
            "        [83, 89, 83, 84]])\n",
            "\n",
            "-----\n",
            "\n",
            "When input is: [76], the target is: 65\n",
            "When input is: [76, 65], the target is: 84\n",
            "When input is: [76, 65, 84], the target is: 73\n",
            "When input is: [76, 65, 84, 73], the target is: 86\n",
            "When input is: [65], the target is: 84\n",
            "When input is: [65, 84], the target is: 69\n",
            "When input is: [65, 84, 69], the target is: 68\n",
            "When input is: [65, 84, 69, 68], the target is: 2\n",
            "When input is: [78], the target is: 2\n",
            "When input is: [78, 2], the target is: 76\n",
            "When input is: [78, 2, 76], the target is: 73\n",
            "When input is: [78, 2, 76, 73], the target is: 66\n",
            "When input is: [2], the target is: 83\n",
            "When input is: [2, 83], the target is: 89\n",
            "When input is: [2, 83, 89], the target is: 83\n",
            "When input is: [2, 83, 89, 83], the target is: 84\n"
          ]
        }
      ]
    }
  ]
}