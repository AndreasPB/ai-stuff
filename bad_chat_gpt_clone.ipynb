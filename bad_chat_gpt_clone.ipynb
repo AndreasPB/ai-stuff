{
  "nbformat": 4,
  "nbformat_minor": 0,
  "metadata": {
    "colab": {
      "provenance": [],
      "mount_file_id": "1Z4P5L_CnPUbR3DpiBMuWskzVU8xYEWLb",
      "authorship_tag": "ABX9TyMJhDmRlnhnLA1Wp55f2pvn",
      "include_colab_link": true
    },
    "kernelspec": {
      "name": "python3",
      "display_name": "Python 3"
    },
    "language_info": {
      "name": "python"
    }
  },
  "cells": [
    {
      "cell_type": "markdown",
      "metadata": {
        "id": "view-in-github",
        "colab_type": "text"
      },
      "source": [
        "<a href=\"https://colab.research.google.com/github/AndreasPB/ai-stuff/blob/master/bad_chat_gpt_clone.ipynb\" target=\"_parent\"><img src=\"https://colab.research.google.com/assets/colab-badge.svg\" alt=\"Open In Colab\"/></a>"
      ]
    },
    {
      "cell_type": "markdown",
      "source": [
        "# Building a bad Generatively Pretrained Transformer (GPT) by following https://youtu.be/kCc8FmEb1nYs"
      ],
      "metadata": {
        "id": "P1OiC3AUy4he"
      }
    },
    {
      "cell_type": "code",
      "source": [
        "# Read some txt dataset\n",
        "with open('WikiQA-train.txt', 'r', encoding='utf-8') as f:\n",
        "    text = f.read()"
      ],
      "metadata": {
        "id": "0zF_qdhstusi"
      },
      "execution_count": 79,
      "outputs": []
    },
    {
      "cell_type": "code",
      "source": [
        "print(\"length of dataset in characters: \", len(text))"
      ],
      "metadata": {
        "colab": {
          "base_uri": "https://localhost:8080/"
        },
        "id": "WvWiSYzxtxLk",
        "outputId": "2a3c3f85-4a48-43d2-bfc3-30a5d68e1b8b"
      },
      "execution_count": 80,
      "outputs": [
        {
          "output_type": "stream",
          "name": "stdout",
          "text": [
            "length of dataset in characters:  3668541\n"
          ]
        }
      ]
    },
    {
      "cell_type": "code",
      "source": [
        "# Let's look at the first 1000 characters\n",
        "print(text[:1000])"
      ],
      "metadata": {
        "colab": {
          "base_uri": "https://localhost:8080/"
        },
        "id": "ydJX1MzJtzaP",
        "outputId": "53fb3597-6dc8-456d-b55b-eb7cb4f54447"
      },
      "execution_count": 81,
      "outputs": [
        {
          "output_type": "stream",
          "name": "stdout",
          "text": [
            "how are glacier caves formed ?\tA partly submerged glacier cave on Perito Moreno Glacier .\t0\n",
            "how are glacier caves formed ?\tThe ice facade is approximately 60 m high\t0\n",
            "how are glacier caves formed ?\tIce formations in the Titlis glacier cave\t0\n",
            "how are glacier caves formed ?\tA glacier cave is a cave formed within the ice of a glacier .\t1\n",
            "how are glacier caves formed ?\tGlacier caves are often called ice caves , but this term is properly used to describe bedrock caves that contain year-round ice .\t0\n",
            "How are the directions of the velocity and force vectors related in a circular motion\tIn physics , circular motion is a movement of an object along the circumference of a circle or rotation along a circular path .\t0\n",
            "How are the directions of the velocity and force vectors related in a circular motion\tIt can be uniform , with constant angular rate of rotation ( and constant speed ) , or non-uniform with a changing rate of rotation .\t0\n",
            "How are the directions of the velocity and force vectors relat\n"
          ]
        }
      ]
    },
    {
      "cell_type": "code",
      "source": [
        "# Here are all the unique characters that occur in this text\n",
        "chars = sorted(set(text))\n",
        "vocab_size = len(chars)\n",
        "print(''.join(chars))\n",
        "print(vocab_size)"
      ],
      "metadata": {
        "colab": {
          "base_uri": "https://localhost:8080/"
        },
        "id": "XnhYIfTbt4Yg",
        "outputId": "824ce283-a481-49cb-ead2-f39049d8fce9"
      },
      "execution_count": 82,
      "outputs": [
        {
          "output_type": "stream",
          "name": "stdout",
          "text": [
            "\t\n",
            " !#$%&'()*+,-./0123456789:;<=>?@ABCDEFGHIJKLMNOPQRSTUVWXYZ[\\]_`abcdefghijklmnopqrstuvwxyz{|}~¢£§­®°±·ÁÉ×ØàáâãäæçèéêëíïðñóôöøùúûüĀāąćčĐēīłňōŚşšūƎưǎɔɪʌʔʻʾʿˀˈάέήίαβγεζηθικλμνξοπρςστυφχψωόύώАаклсяאבדהוזחטילםמןקרשरशी्ชมยรวศาิีเምሴḥṭạảấễệốồộờủỹἀἈἐἱἸὁὐὰὶὸὺ‐–—‘’“”†•‰′⁄€−≈≤≥┌┐★♀♂♋♙♟がなひらカタナ一劉勝圖安小李萬言龍원학\n",
            "294\n"
          ]
        }
      ]
    },
    {
      "cell_type": "code",
      "source": [
        "stoi: dict[str, int] = { ch: i for i, ch in enumerate(chars) }\n",
        "itos: dict[int, str] = { i: ch for i, ch in enumerate(chars) }\n",
        "\n",
        "def encode(s: str) -> list[int]:\n",
        "    return [stoi[c] for c in s]\n",
        "\n",
        "def decode(l: list) -> str:\n",
        "    return \"\".join([itos[i] for i in l])\n",
        "\n",
        "sentence = \"haha lol\"\n",
        "print(\"encoded:\", encode(sentence))\n",
        "print(\"decoded:\", decode(encode(sentence)))"
      ],
      "metadata": {
        "colab": {
          "base_uri": "https://localhost:8080/"
        },
        "id": "v6MIr9V4vb5I",
        "outputId": "f414c63b-e869-4dbb-f414-f36a07061f02"
      },
      "execution_count": 83,
      "outputs": [
        {
          "output_type": "stream",
          "name": "stdout",
          "text": [
            "encoded: [72, 65, 72, 65, 2, 76, 79, 76]\n",
            "decoded: haha lol\n"
          ]
        }
      ]
    },
    {
      "cell_type": "code",
      "source": [
        "import torch\n",
        "\n",
        "data = torch.tensor(encode(text), dtype=torch.long)\n",
        "print(data.shape, data.dtype)\n",
        "print(data[:100])"
      ],
      "metadata": {
        "colab": {
          "base_uri": "https://localhost:8080/"
        },
        "id": "1cUNSV-JwjGm",
        "outputId": "15fd4527-0c52-4c28-827d-2788b49e46ac"
      },
      "execution_count": 84,
      "outputs": [
        {
          "output_type": "stream",
          "name": "stdout",
          "text": [
            "torch.Size([3668541]) torch.int64\n",
            "tensor([72, 79, 87,  2, 65, 82, 69,  2, 71, 76, 65, 67, 73, 69, 82,  2, 67, 65,\n",
            "        86, 69, 83,  2, 70, 79, 82, 77, 69, 68,  2, 32,  0, 34,  2, 80, 65, 82,\n",
            "        84, 76, 89,  2, 83, 85, 66, 77, 69, 82, 71, 69, 68,  2, 71, 76, 65, 67,\n",
            "        73, 69, 82,  2, 67, 65, 86, 69,  2, 79, 78,  2, 49, 69, 82, 73, 84, 79,\n",
            "         2, 46, 79, 82, 69, 78, 79,  2, 40, 76, 65, 67, 73, 69, 82,  2, 15,  0,\n",
            "        17,  1, 72, 79, 87,  2, 65, 82, 69,  2])\n"
          ]
        }
      ]
    },
    {
      "cell_type": "code",
      "source": [
        "# Split it up\n",
        "n = int(0.9 * len(data))\n",
        "\n",
        "train_data = data[:n]\n",
        "val_data = data[n:]"
      ],
      "metadata": {
        "id": "B3VGr8nG2Kg0"
      },
      "execution_count": 85,
      "outputs": []
    },
    {
      "cell_type": "code",
      "source": [
        "block_size = 8\n",
        "train_data[:block_size + 1]"
      ],
      "metadata": {
        "colab": {
          "base_uri": "https://localhost:8080/"
        },
        "id": "wxr5NNvu3L1O",
        "outputId": "b80a14e8-c133-47b0-a50a-7c56802bccc4"
      },
      "execution_count": 86,
      "outputs": [
        {
          "output_type": "execute_result",
          "data": {
            "text/plain": [
              "tensor([72, 79, 87,  2, 65, 82, 69,  2, 71])"
            ]
          },
          "metadata": {},
          "execution_count": 86
        }
      ]
    },
    {
      "cell_type": "code",
      "source": [
        "x = train_data[:block_size]\n",
        "y = train_data[1:block_size+1]\n",
        "for t in range(block_size):\n",
        "    context = x[:t+1]\n",
        "    target = y[t]\n",
        "    print(f\"When input context: {context}, the target is: {target}\")"
      ],
      "metadata": {
        "colab": {
          "base_uri": "https://localhost:8080/"
        },
        "id": "Ym_Oq_w83eL8",
        "outputId": "2eee28e5-a697-4afe-ce4c-260b4585de31"
      },
      "execution_count": 87,
      "outputs": [
        {
          "output_type": "stream",
          "name": "stdout",
          "text": [
            "When input context: tensor([72]), the target is: 79\n",
            "When input context: tensor([72, 79]), the target is: 87\n",
            "When input context: tensor([72, 79, 87]), the target is: 2\n",
            "When input context: tensor([72, 79, 87,  2]), the target is: 65\n",
            "When input context: tensor([72, 79, 87,  2, 65]), the target is: 82\n",
            "When input context: tensor([72, 79, 87,  2, 65, 82]), the target is: 69\n",
            "When input context: tensor([72, 79, 87,  2, 65, 82, 69]), the target is: 2\n",
            "When input context: tensor([72, 79, 87,  2, 65, 82, 69,  2]), the target is: 71\n"
          ]
        }
      ]
    },
    {
      "cell_type": "code",
      "source": [
        "from torch.functional import Tensor\n",
        "\n",
        "batch_size = 4  # Amount of parallel processes\n",
        "block_size = 8  # Max context length for a prediction\n",
        "\n",
        "def get_batch(split: str) -> tuple[Tensor, Tensor]:\n",
        "    # Generate a small batch of data (inputs x and targets y)\n",
        "\n",
        "    data = train_data if split == \"train\" else val_data\n",
        "\n",
        "    ix = torch.randint(len(data) - block_size, (batch_size,))\n",
        "    x = torch.stack([data[i:i+block_size] for i in ix])\n",
        "    y = torch.stack([data[i+1:i+block_size+1] for i in ix])\n",
        "\n",
        "    return x, y\n",
        "\n",
        "xb, yb = get_batch(\"train\")\n",
        "print(f\"inputs: \\n{xb.shape} \\n{xb}\")\n",
        "print(f\"targets: \\n{yb.shape} \\n{yb}\")\n",
        "\n",
        "print(\"\\n-----\\n\")\n",
        "\n",
        "# For demonstration - Only runs through the 1st batch\n",
        "for b in range(batch_size)[:1]:  # Batch dimension\n",
        "    for t in range(block_size):  # Time dimension\n",
        "        context = xb[b, :t+1]\n",
        "        target = yb[b, t]\n",
        "        print(f\"When input is: {context.tolist()}, the target is: {target}\")"
      ],
      "metadata": {
        "colab": {
          "base_uri": "https://localhost:8080/"
        },
        "id": "AwuLZq6P4OSA",
        "outputId": "b13031f5-de3b-490d-a2d1-165b383cb95a"
      },
      "execution_count": 88,
      "outputs": [
        {
          "output_type": "stream",
          "name": "stdout",
          "text": [
            "inputs: \n",
            "torch.Size([4, 8]) \n",
            "tensor([[85, 65, 82, 89,  2, 18, 26, 17],\n",
            "        [73, 67, 83,  2, 87, 69, 82, 69],\n",
            "        [45, 79, 78, 68, 79, 78,  2, 36],\n",
            "        [68,  2, 65, 87, 65, 89,  2, 15]])\n",
            "targets: \n",
            "torch.Size([4, 8]) \n",
            "tensor([[65, 82, 89,  2, 18, 26, 17, 24],\n",
            "        [67, 83,  2, 87, 69, 82, 69,  2],\n",
            "        [79, 78, 68, 79, 78,  2, 36, 79],\n",
            "        [ 2, 65, 87, 65, 89,  2, 15,  0]])\n",
            "\n",
            "-----\n",
            "\n",
            "When input is: [85], the target is: 65\n",
            "When input is: [85, 65], the target is: 82\n",
            "When input is: [85, 65, 82], the target is: 89\n",
            "When input is: [85, 65, 82, 89], the target is: 2\n",
            "When input is: [85, 65, 82, 89, 2], the target is: 18\n",
            "When input is: [85, 65, 82, 89, 2, 18], the target is: 26\n",
            "When input is: [85, 65, 82, 89, 2, 18, 26], the target is: 17\n",
            "When input is: [85, 65, 82, 89, 2, 18, 26, 17], the target is: 24\n"
          ]
        }
      ]
    },
    {
      "cell_type": "code",
      "source": [
        "print(f\"The input for the transformer: \\n{xb}\")"
      ],
      "metadata": {
        "colab": {
          "base_uri": "https://localhost:8080/"
        },
        "id": "7XuKjI8LAH4i",
        "outputId": "77866686-e700-4fc7-f2bb-cf125efb8e83"
      },
      "execution_count": 89,
      "outputs": [
        {
          "output_type": "stream",
          "name": "stdout",
          "text": [
            "The input for the transformer: \n",
            "tensor([[85, 65, 82, 89,  2, 18, 26, 17],\n",
            "        [73, 67, 83,  2, 87, 69, 82, 69],\n",
            "        [45, 79, 78, 68, 79, 78,  2, 36],\n",
            "        [68,  2, 65, 87, 65, 89,  2, 15]])\n"
          ]
        }
      ]
    },
    {
      "cell_type": "markdown",
      "source": [
        "## Time for the models!"
      ],
      "metadata": {
        "id": "I8vU9mOvABBv"
      }
    },
    {
      "cell_type": "code",
      "source": [
        "from typing import Union\n",
        "import torch\n",
        "import torch.nn as nn\n",
        "from torch.nn import functional as F\n",
        "from torch.functional import Tensor\n",
        "\n",
        "\n",
        "class BigramLanguageModel(nn.Module):\n",
        "    def __init__(self, vocab_size: int):\n",
        "        super().__init__()\n",
        "\n",
        "        # Each token directly read off the logits for the next token from a lookup table\n",
        "        self.token_embedding_table = nn.Embedding(vocab_size, vocab_size)\n",
        "\n",
        "    def forward(self, idx: Tensor, targets = None):\n",
        "        # idx and targets are both (B, T) Tensor of ints\n",
        "        logits = self.token_embedding_table(idx)  # (B, T, C)\n",
        "\n",
        "        if targets is None:\n",
        "            loss = None\n",
        "        else:\n",
        "            B, T, C = logits.shape\n",
        "            logits = logits.view(B * T, C)\n",
        "            targets = targets.view(B * T)\n",
        "            loss = F.cross_entropy(logits, targets)\n",
        "\n",
        "        return logits, loss\n",
        "\n",
        "    def generate(self, idx: Tensor, max_new_tokens: int):\n",
        "        # idx is (B, T) array of indices in the corrent context\n",
        "        for _ in range(max_new_tokens):\n",
        "            logits, loss = self(idx)  # Get the predictions\n",
        "            logits = logits[:, -1, :]  # Becomes (B, C)\n",
        "\n",
        "            # Apply softmax to get probabilities\n",
        "            probs = F.softmax(logits, dim=-1)  # (B, C)\n",
        "            # Sample from the distrubution\n",
        "            idx_next = torch.multinomial(probs, num_samples=1)  # (B, 1)\n",
        "            # Append the sampled index to the running sequence\n",
        "            idx = torch.cat((idx, idx_next), dim=1)  # (B, T+1)\n",
        "\n",
        "        return idx\n",
        "\n",
        "\n",
        "m = BigramLanguageModel(vocab_size)\n",
        "logits, loss = m(xb, yb)\n",
        "print(\"Logits shape:\", logits.shape)\n",
        "print(\"Loss:\", loss)\n",
        "\n",
        "print(\"\\n-----\\n\")\n",
        "\n",
        "idx = torch.zeros((1, 1), dtype=torch.long)\n",
        "untrained = m.generate(idx, max_new_tokens=100)[0].tolist()\n",
        "print(f\"Untrained gibberish attempt: \\n{decode(untrained)}\")"
      ],
      "metadata": {
        "colab": {
          "base_uri": "https://localhost:8080/"
        },
        "id": "Nyp1awn3AEuM",
        "outputId": "b276f347-e523-4c6a-c0a1-87c08fc63cc5"
      },
      "execution_count": 117,
      "outputs": [
        {
          "output_type": "stream",
          "name": "stdout",
          "text": [
            "Logits shape: torch.Size([32, 294])\n",
            "Loss: tensor(6.3967, grad_fn=<NllLossBackward0>)\n",
            "\n",
            "-----\n",
            "\n",
            "Untrained gibberish attempt: \n",
            "\të 원≈ሴpτ‘Zεūשタ萬HjטI>νZ®_*íἱรøʻी}#ō#圖ה€Gʔū (Ǝ_ช4ë6C×ἱà李o?ςộsлJ♀CVםɪąóเu‐ρひο9ê\\ב•ệἸμw<ňĐØư Đ 9DןZã劉ψ,b♀\n"
          ]
        }
      ]
    },
    {
      "cell_type": "markdown",
      "source": [
        "## Lets optimize this using Adam"
      ],
      "metadata": {
        "id": "ZQNY8HVqL-xz"
      }
    },
    {
      "cell_type": "code",
      "source": [
        "optimizer = torch.optim.AdamW(m.parameters(), lr=1e-3)"
      ],
      "metadata": {
        "id": "IU1UlKisMaLJ"
      },
      "execution_count": 118,
      "outputs": []
    },
    {
      "cell_type": "code",
      "source": [
        "batch_size = 32\n",
        "\n",
        "for steps in range(10000):\n",
        "    xb, yb = get_batch(\"train\")  # Sample a batch of data\n",
        "\n",
        "    # Evaluate the loss\n",
        "    logits, loss = m(xb, yb)\n",
        "    optimizer.zero_grad(set_to_none=True)\n",
        "    loss.backward()\n",
        "    optimizer.step()\n",
        "\n",
        "print(loss.item())\n"
      ],
      "metadata": {
        "colab": {
          "base_uri": "https://localhost:8080/"
        },
        "id": "Nd9Os2cYL9dr",
        "outputId": "069366ed-7c3a-4363-e9bc-335afcfc02fa"
      },
      "execution_count": 125,
      "outputs": [
        {
          "output_type": "stream",
          "name": "stdout",
          "text": [
            "2.5274951457977295\n"
          ]
        }
      ]
    },
    {
      "cell_type": "code",
      "source": [
        "idx = torch.zeros((1, 1), dtype=torch.long)\n",
        "untrained = m.generate(idx, max_new_tokens=100)[0].tolist()\n",
        "print(f\"Trained attempt: \\n{decode(untrained)}\")"
      ],
      "metadata": {
        "colab": {
          "base_uri": "https://localhost:8080/"
        },
        "id": "vThRCNi9NDvO",
        "outputId": "5dfb1352-eccb-4553-9cf3-48e80a52c31e"
      },
      "execution_count": 126,
      "outputs": [
        {
          "output_type": "stream",
          "name": "stdout",
          "text": [
            "Trained attempt: \n",
            "\t0\n",
            "walat’319494•á( re pp-rer vedion bararis fer itin c veicagenibetalorsatedis eredrigaxen l .\tMian t\n"
          ]
        }
      ]
    }
  ]
}