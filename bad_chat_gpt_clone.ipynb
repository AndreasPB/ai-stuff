{
  "nbformat": 4,
  "nbformat_minor": 0,
  "metadata": {
    "colab": {
      "provenance": [],
      "mount_file_id": "1Z4P5L_CnPUbR3DpiBMuWskzVU8xYEWLb",
      "authorship_tag": "ABX9TyM2oIg9I/SugXZCKOvpnFfY",
      "include_colab_link": true
    },
    "kernelspec": {
      "name": "python3",
      "display_name": "Python 3"
    },
    "language_info": {
      "name": "python"
    }
  },
  "cells": [
    {
      "cell_type": "markdown",
      "metadata": {
        "id": "view-in-github",
        "colab_type": "text"
      },
      "source": [
        "<a href=\"https://colab.research.google.com/github/AndreasPB/ai-stuff/blob/master/bad_chat_gpt_clone.ipynb\" target=\"_parent\"><img src=\"https://colab.research.google.com/assets/colab-badge.svg\" alt=\"Open In Colab\"/></a>"
      ]
    },
    {
      "cell_type": "markdown",
      "source": [
        "# Following https://www.youtube.com/watch?v=kCc8FmEb1nY&t=160s"
      ],
      "metadata": {
        "id": "P1OiC3AUy4he"
      }
    },
    {
      "cell_type": "code",
      "source": [
        "# read it in to inspect it\n",
        "with open('WikiQA-train.txt', 'r', encoding='utf-8') as f:\n",
        "    text = f.read()"
      ],
      "metadata": {
        "id": "0zF_qdhstusi"
      },
      "execution_count": null,
      "outputs": []
    },
    {
      "cell_type": "code",
      "source": [
        "print(\"length of dataset in characters: \", len(text))"
      ],
      "metadata": {
        "colab": {
          "base_uri": "https://localhost:8080/"
        },
        "id": "WvWiSYzxtxLk",
        "outputId": "e3658cbd-c529-43fb-c4f1-3bcbd1176cf5"
      },
      "execution_count": null,
      "outputs": [
        {
          "output_type": "stream",
          "name": "stdout",
          "text": [
            "length of dataset in characters:  3668541\n"
          ]
        }
      ]
    },
    {
      "cell_type": "code",
      "source": [
        "# let's look at the first 1000 characters\n",
        "print(text[:1000])"
      ],
      "metadata": {
        "colab": {
          "base_uri": "https://localhost:8080/"
        },
        "id": "ydJX1MzJtzaP",
        "outputId": "f1d577c6-e77b-4dbd-afc6-f66002910a17"
      },
      "execution_count": null,
      "outputs": [
        {
          "output_type": "stream",
          "name": "stdout",
          "text": [
            "how are glacier caves formed ?\tA partly submerged glacier cave on Perito Moreno Glacier .\t0\n",
            "how are glacier caves formed ?\tThe ice facade is approximately 60 m high\t0\n",
            "how are glacier caves formed ?\tIce formations in the Titlis glacier cave\t0\n",
            "how are glacier caves formed ?\tA glacier cave is a cave formed within the ice of a glacier .\t1\n",
            "how are glacier caves formed ?\tGlacier caves are often called ice caves , but this term is properly used to describe bedrock caves that contain year-round ice .\t0\n",
            "How are the directions of the velocity and force vectors related in a circular motion\tIn physics , circular motion is a movement of an object along the circumference of a circle or rotation along a circular path .\t0\n",
            "How are the directions of the velocity and force vectors related in a circular motion\tIt can be uniform , with constant angular rate of rotation ( and constant speed ) , or non-uniform with a changing rate of rotation .\t0\n",
            "How are the directions of the velocity and force vectors relat\n"
          ]
        }
      ]
    },
    {
      "cell_type": "code",
      "source": [
        "# here are all the unique characters that occur in this text\n",
        "chars = sorted(set(text))\n",
        "vocab_size = len(chars)\n",
        "print(''.join(chars))\n",
        "print(vocab_size)"
      ],
      "metadata": {
        "colab": {
          "base_uri": "https://localhost:8080/"
        },
        "id": "XnhYIfTbt4Yg",
        "outputId": "733fe905-30ab-475b-c8d6-892cff798964"
      },
      "execution_count": null,
      "outputs": [
        {
          "output_type": "stream",
          "name": "stdout",
          "text": [
            "\t\n",
            " !#$%&'()*+,-./0123456789:;<=>?@ABCDEFGHIJKLMNOPQRSTUVWXYZ[\\]_`abcdefghijklmnopqrstuvwxyz{|}~¢£§­®°±·ÁÉ×ØàáâãäæçèéêëíïðñóôöøùúûüĀāąćčĐēīłňōŚşšūƎưǎɔɪʌʔʻʾʿˀˈάέήίαβγεζηθικλμνξοπρςστυφχψωόύώАаклсяאבדהוזחטילםמןקרשरशी्ชมยรวศาิีเምሴḥṭạảấễệốồộờủỹἀἈἐἱἸὁὐὰὶὸὺ‐–—‘’“”†•‰′⁄€−≈≤≥┌┐★♀♂♋♙♟がなひらカタナ一劉勝圖安小李萬言龍원학\n",
            "294\n"
          ]
        }
      ]
    },
    {
      "cell_type": "code",
      "source": [
        "stoi = { ch: i for i, ch in enumerate(chars) }\n",
        "itos = { i: ch for i, ch in enumerate(chars) }\n",
        "encode = lambda s: [stoi[c] for c in s]\n",
        "decode = lambda l: \"\".join([itos[i] for i in l])\n",
        "\n",
        "sentence = \"haaha lol xdd\"\n",
        "print(\"encoded:\", encode(sentence))\n",
        "print(\"decoded:\", decode(encode(sentence)))"
      ],
      "metadata": {
        "colab": {
          "base_uri": "https://localhost:8080/"
        },
        "id": "v6MIr9V4vb5I",
        "outputId": "2de6d035-4d15-4b51-c357-105e052fdf5b"
      },
      "execution_count": null,
      "outputs": [
        {
          "output_type": "stream",
          "name": "stdout",
          "text": [
            "encoded: [72, 65, 65, 72, 65, 2, 76, 79, 76, 2, 88, 68, 68]\n",
            "decoded: haaha lol xdd\n"
          ]
        }
      ]
    },
    {
      "cell_type": "code",
      "source": [
        "import torch\n",
        "\n",
        "data = torch.tensor(encode(text), dtype=torch.long)\n",
        "print(data.shape, data.dtype)\n",
        "print(data[:1000])"
      ],
      "metadata": {
        "colab": {
          "base_uri": "https://localhost:8080/"
        },
        "id": "1cUNSV-JwjGm",
        "outputId": "56ea3d99-334a-4638-8a1a-0e1bb5b3e2c4"
      },
      "execution_count": null,
      "outputs": [
        {
          "output_type": "stream",
          "name": "stdout",
          "text": [
            "torch.Size([3668541]) torch.int64\n",
            "tensor([72, 79, 87,  2, 65, 82, 69,  2, 71, 76, 65, 67, 73, 69, 82,  2, 67, 65,\n",
            "        86, 69, 83,  2, 70, 79, 82, 77, 69, 68,  2, 32,  0, 34,  2, 80, 65, 82,\n",
            "        84, 76, 89,  2, 83, 85, 66, 77, 69, 82, 71, 69, 68,  2, 71, 76, 65, 67,\n",
            "        73, 69, 82,  2, 67, 65, 86, 69,  2, 79, 78,  2, 49, 69, 82, 73, 84, 79,\n",
            "         2, 46, 79, 82, 69, 78, 79,  2, 40, 76, 65, 67, 73, 69, 82,  2, 15,  0,\n",
            "        17,  1, 72, 79, 87,  2, 65, 82, 69,  2, 71, 76, 65, 67, 73, 69, 82,  2,\n",
            "        67, 65, 86, 69, 83,  2, 70, 79, 82, 77, 69, 68,  2, 32,  0, 53, 72, 69,\n",
            "         2, 73, 67, 69,  2, 70, 65, 67, 65, 68, 69,  2, 73, 83,  2, 65, 80, 80,\n",
            "        82, 79, 88, 73, 77, 65, 84, 69, 76, 89,  2, 23, 17,  2, 77,  2, 72, 73,\n",
            "        71, 72,  0, 17,  1, 72, 79, 87,  2, 65, 82, 69,  2, 71, 76, 65, 67, 73,\n",
            "        69, 82,  2, 67, 65, 86, 69, 83,  2, 70, 79, 82, 77, 69, 68,  2, 32,  0,\n",
            "        42, 67, 69,  2, 70, 79, 82, 77, 65, 84, 73, 79, 78, 83,  2, 73, 78,  2,\n",
            "        84, 72, 69,  2, 53, 73, 84, 76, 73, 83,  2, 71, 76, 65, 67, 73, 69, 82,\n",
            "         2, 67, 65, 86, 69,  0, 17,  1, 72, 79, 87,  2, 65, 82, 69,  2, 71, 76,\n",
            "        65, 67, 73, 69, 82,  2, 67, 65, 86, 69, 83,  2, 70, 79, 82, 77, 69, 68,\n",
            "         2, 32,  0, 34,  2, 71, 76, 65, 67, 73, 69, 82,  2, 67, 65, 86, 69,  2,\n",
            "        73, 83,  2, 65,  2, 67, 65, 86, 69,  2, 70, 79, 82, 77, 69, 68,  2, 87,\n",
            "        73, 84, 72, 73, 78,  2, 84, 72, 69,  2, 73, 67, 69,  2, 79, 70,  2, 65,\n",
            "         2, 71, 76, 65, 67, 73, 69, 82,  2, 15,  0, 18,  1, 72, 79, 87,  2, 65,\n",
            "        82, 69,  2, 71, 76, 65, 67, 73, 69, 82,  2, 67, 65, 86, 69, 83,  2, 70,\n",
            "        79, 82, 77, 69, 68,  2, 32,  0, 40, 76, 65, 67, 73, 69, 82,  2, 67, 65,\n",
            "        86, 69, 83,  2, 65, 82, 69,  2, 79, 70, 84, 69, 78,  2, 67, 65, 76, 76,\n",
            "        69, 68,  2, 73, 67, 69,  2, 67, 65, 86, 69, 83,  2, 13,  2, 66, 85, 84,\n",
            "         2, 84, 72, 73, 83,  2, 84, 69, 82, 77,  2, 73, 83,  2, 80, 82, 79, 80,\n",
            "        69, 82, 76, 89,  2, 85, 83, 69, 68,  2, 84, 79,  2, 68, 69, 83, 67, 82,\n",
            "        73, 66, 69,  2, 66, 69, 68, 82, 79, 67, 75,  2, 67, 65, 86, 69, 83,  2,\n",
            "        84, 72, 65, 84,  2, 67, 79, 78, 84, 65, 73, 78,  2, 89, 69, 65, 82, 14,\n",
            "        82, 79, 85, 78, 68,  2, 73, 67, 69,  2, 15,  0, 17,  1, 41, 79, 87,  2,\n",
            "        65, 82, 69,  2, 84, 72, 69,  2, 68, 73, 82, 69, 67, 84, 73, 79, 78, 83,\n",
            "         2, 79, 70,  2, 84, 72, 69,  2, 86, 69, 76, 79, 67, 73, 84, 89,  2, 65,\n",
            "        78, 68,  2, 70, 79, 82, 67, 69,  2, 86, 69, 67, 84, 79, 82, 83,  2, 82,\n",
            "        69, 76, 65, 84, 69, 68,  2, 73, 78,  2, 65,  2, 67, 73, 82, 67, 85, 76,\n",
            "        65, 82,  2, 77, 79, 84, 73, 79, 78,  0, 42, 78,  2, 80, 72, 89, 83, 73,\n",
            "        67, 83,  2, 13,  2, 67, 73, 82, 67, 85, 76, 65, 82,  2, 77, 79, 84, 73,\n",
            "        79, 78,  2, 73, 83,  2, 65,  2, 77, 79, 86, 69, 77, 69, 78, 84,  2, 79,\n",
            "        70,  2, 65, 78,  2, 79, 66, 74, 69, 67, 84,  2, 65, 76, 79, 78, 71,  2,\n",
            "        84, 72, 69,  2, 67, 73, 82, 67, 85, 77, 70, 69, 82, 69, 78, 67, 69,  2,\n",
            "        79, 70,  2, 65,  2, 67, 73, 82, 67, 76, 69,  2, 79, 82,  2, 82, 79, 84,\n",
            "        65, 84, 73, 79, 78,  2, 65, 76, 79, 78, 71,  2, 65,  2, 67, 73, 82, 67,\n",
            "        85, 76, 65, 82,  2, 80, 65, 84, 72,  2, 15,  0, 17,  1, 41, 79, 87,  2,\n",
            "        65, 82, 69,  2, 84, 72, 69,  2, 68, 73, 82, 69, 67, 84, 73, 79, 78, 83,\n",
            "         2, 79, 70,  2, 84, 72, 69,  2, 86, 69, 76, 79, 67, 73, 84, 89,  2, 65,\n",
            "        78, 68,  2, 70, 79, 82, 67, 69,  2, 86, 69, 67, 84, 79, 82, 83,  2, 82,\n",
            "        69, 76, 65, 84, 69, 68,  2, 73, 78,  2, 65,  2, 67, 73, 82, 67, 85, 76,\n",
            "        65, 82,  2, 77, 79, 84, 73, 79, 78,  0, 42, 84,  2, 67, 65, 78,  2, 66,\n",
            "        69,  2, 85, 78, 73, 70, 79, 82, 77,  2, 13,  2, 87, 73, 84, 72,  2, 67,\n",
            "        79, 78, 83, 84, 65, 78, 84,  2, 65, 78, 71, 85, 76, 65, 82,  2, 82, 65,\n",
            "        84, 69,  2, 79, 70,  2, 82, 79, 84, 65, 84, 73, 79, 78,  2,  9,  2, 65,\n",
            "        78, 68,  2, 67, 79, 78, 83, 84, 65, 78, 84,  2, 83, 80, 69, 69, 68,  2,\n",
            "        10,  2, 13,  2, 79, 82,  2, 78, 79, 78, 14, 85, 78, 73, 70, 79, 82, 77,\n",
            "         2, 87, 73, 84, 72,  2, 65,  2, 67, 72, 65, 78, 71, 73, 78, 71,  2, 82,\n",
            "        65, 84, 69,  2, 79, 70,  2, 82, 79, 84, 65, 84, 73, 79, 78,  2, 15,  0,\n",
            "        17,  1, 41, 79, 87,  2, 65, 82, 69,  2, 84, 72, 69,  2, 68, 73, 82, 69,\n",
            "        67, 84, 73, 79, 78, 83,  2, 79, 70,  2, 84, 72, 69,  2, 86, 69, 76, 79,\n",
            "        67, 73, 84, 89,  2, 65, 78, 68,  2, 70, 79, 82, 67, 69,  2, 86, 69, 67,\n",
            "        84, 79, 82, 83,  2, 82, 69, 76, 65, 84])\n"
          ]
        }
      ]
    },
    {
      "cell_type": "markdown",
      "source": [],
      "metadata": {
        "id": "BCaQoryRy3so"
      }
    }
  ]
}