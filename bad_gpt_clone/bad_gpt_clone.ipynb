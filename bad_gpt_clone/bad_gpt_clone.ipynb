{
  "cells": [
    {
      "cell_type": "markdown",
      "metadata": {
        "colab_type": "text",
        "id": "view-in-github"
      },
      "source": [
        "<a href=\"https://colab.research.google.com/github/AndreasPB/ai-stuff/blob/master/bad_chat_gpt_clone.ipynb\" target=\"_parent\"><img src=\"https://colab.research.google.com/assets/colab-badge.svg\" alt=\"Open In Colab\"/></a>"
      ]
    },
    {
      "cell_type": "markdown",
      "metadata": {
        "id": "P1OiC3AUy4he"
      },
      "source": [
        "# Building a bad Generatively Pretrained Transformer (GPT) by following https://youtu.be/kCc8FmEb1nYs"
      ]
    },
    {
      "cell_type": "code",
      "execution_count": 1,
      "metadata": {
        "id": "0zF_qdhstusi"
      },
      "outputs": [],
      "source": [
        "# Read some txt dataset\n",
        "with open('steam_reviews.txt', 'r', encoding='utf-8') as f:\n",
        "    text = f.read()"
      ]
    },
    {
      "cell_type": "code",
      "execution_count": 2,
      "metadata": {
        "colab": {
          "base_uri": "https://localhost:8080/"
        },
        "id": "WvWiSYzxtxLk",
        "outputId": "2a3c3f85-4a48-43d2-bfc3-30a5d68e1b8b"
      },
      "outputs": [
        {
          "name": "stdout",
          "output_type": "stream",
          "text": [
            "length of dataset in characters:  23930571\n"
          ]
        }
      ],
      "source": [
        "print(\"length of dataset in characters: \", len(text))"
      ]
    },
    {
      "cell_type": "code",
      "execution_count": 3,
      "metadata": {
        "colab": {
          "base_uri": "https://localhost:8080/"
        },
        "id": "ydJX1MzJtzaP",
        "outputId": "53fb3597-6dc8-456d-b55b-eb7cb4f54447"
      },
      "outputs": [
        {
          "name": "stdout",
          "output_type": "stream",
          "text": [
            "review_text\n",
            "\n",
            "Ruined my life.\n",
            "\n",
            "This will be more of a ''my experience with this game'' type of review, because saying things like ''great gameplay'' will not suit something I've experienced with Counter-Strike. Here you go:  I remember back in 2002 I was at a friend's house and he was playing a game. I didn't know the name of the game nor I had internet to find it. A few weeks passed by and another friend came over. He didn't have a computer, so he brought a disc with a game in it. He told me that it was one of the best games and from that very moment I knew that it is going to be the game I saw at the other friend's house. When I saw the Counter-Strike logo I was filled with gamegasm (?) and I was so happy. I was playing it hardcore. Made friends, clans, was involved in communities and even made two myself. Counter-Strike is my first game which I played competitively and it was a such an experience. Playing public servers with mods were very fun, but playing it competitively made it ve\n"
          ]
        }
      ],
      "source": [
        "# Let's look at the first 1000 characters\n",
        "print(text[:1000])"
      ]
    },
    {
      "cell_type": "code",
      "execution_count": 4,
      "metadata": {
        "colab": {
          "base_uri": "https://localhost:8080/"
        },
        "id": "XnhYIfTbt4Yg",
        "outputId": "824ce283-a481-49cb-ead2-f39049d8fce9"
      },
      "outputs": [
        {
          "name": "stdout",
          "output_type": "stream",
          "text": [
            "\u0001\u0002\u0003\u0005\n",
            " !#$%&'()*+,-./0123456789:;=?@ABCDEFGHIJKLMNOPQRSTUVWXYZ[\\]^_`abcdefghijklmnopqrstuvwxyz{|}~¡¢£¥§¨©ª«¬®¯°²³´¶·¸º»¼½¾¿ÀÁÂÃÄÅÆÉÌÍÎÓÖØÜßàáãäçèéêëìíñòóôõöøùúüĆćČčđĚğİıŁœşŠšŽžƁƅƊƒƓƖƛƝƠƤƦƧƬƲƳƵƽɐɑɔɗɦɪʖʰʳʷʸˇˈ̴̵̶̷̸̡̢̧̨̛̖̗̘̙̜̝̞̟̠̣̤̥̦̩̪̫̬̭̮̯̰̱̲̳̹̺̻̼͇͈͉͍͎̀́̂̃̄̅̆̇̈̉̊̋̌̍̎̏̐̑̒̓̔̽̾̿̀́͂̓̈́͆͊͋͌̕̚ͅ͏͓͔͕͖͙͚͐͑͒͗͛ͣͤͥͦͧͨͩͪͫͬͭͮͯ͘͜͟͢͝͞͠͡ΘεηιλπυφωЄАБВГДЕЗИКЛМНОПРСТУХЧШЬЭЯабвгдежзийклмнопрстуфхцчшщъыьэюяёєѕїѠ҂҉үӇԁل۞۩ਉଠஜ௵థ౦౪ಠಥกคงจฉชดตถทนบปผพภมยรลวสหอะัาำิีืุูเแโใไๆ็่้๋์ຈຶ༎༼༽ლᅚᅠᎲᎷᐛᑴᑷᕕᕗᕤᕦᴱᵃᵈᵉᵍᵒᵖᵗᵘᵛᶖᶙᶦṧᾔ  ​‌‎‏–—‘’“”„•…‪‫‬‭‸‼‿⁧⁨€№™ℭℳ↑→↕↨↯∀∂√∞∩≈≦≧⊂⊃⊙⌂⌐⌒ⒶⒸⒺⒼⒾⓂⓅⓡ─━┃┈┌┏┐┓└┣┫┳┻╋═║╔╗╚╝╠╣╤╦╩╬╭╮╯╰╱╲▀▂▃▄▅▆█▉▌▏▐░▒▓▔▕■□▨▬▲►▼◄◈◉○●◕◘◙◤◥☁★☆☑☒☞☟☠☪☭☯☹☺☻☼♀♛♠♡♣♥♦♩♪♫⚐✋✓✔✘✧✩✮✰❤　、。【】あいがくこしじすっつづてとどなにのへほまるゝゲツデノハマムヮ・ーヽヾㅋㅤ一不个中丶丿乂么乏了亚些人们会但典出初力卐厶去后吧器困大好如定家对就尽山差己常彡很怎思性戏我手拉挺推摸文时是本来果武没法泰游潜点然玩瑞电画癖的益管索经老肉肯脑自花苦荐蒐虽要说貧质起超身过这那错长问间除难集需非题가간게결과국그기나는니다단더되라랑래러로를리말몇모보사수순습식씬아양어었에여으은을이인임입있장적전정제좋주테픽하한할합험훨﷽️︠︡︵︻﹋﻿！（）＊，－／７：＜＠ＡＢＣＤＥＦＨＩＫＬＮＯＰＲＳＴＵＶＹ＼＿｀ａｂｃｄｅｆｇｈｉｋｌｎｏｐｒｓｔｕ｜｡､･ﾉﾌﾚﾟ￣￥𝐚𝐜𝐝𝐞𝐟𝐠𝐡𝐢𝐥𝐦𝐧𝐨𝐩𝐫𝐬𝐭𝐮𝐯𝐰𝐲𝐻𝐿𝑒𝑔𝑜𝒞𝒮𝒶𝒷𝒸𝒹𝒻𝒽𝒾𝓀𝓁𝓂𝓃𝓅𝓇𝓈𝓉𝓊𝓋𝓌𝓍𝓎🅰🅴🅻🆅🇸🇺🇿🌟🌳🏼🐧🐺🐾👀👈👌👍👎👏👽💗💙💣💯😀😁😂😃😆😉😍😎😑😘😛😣😤😫🙂🙏󠀁\n",
            "1006\n"
          ]
        }
      ],
      "source": [
        "# Here are all the unique characters that occur in this text\n",
        "chars = sorted(set(text))\n",
        "vocab_size = len(chars)\n",
        "print(''.join(chars))\n",
        "print(vocab_size)"
      ]
    },
    {
      "cell_type": "code",
      "execution_count": 5,
      "metadata": {
        "colab": {
          "base_uri": "https://localhost:8080/"
        },
        "id": "v6MIr9V4vb5I",
        "outputId": "f414c63b-e869-4dbb-f414-f36a07061f02"
      },
      "outputs": [
        {
          "name": "stdout",
          "output_type": "stream",
          "text": [
            "encoded: [76, 69, 76, 69, 7, 80, 83, 80]\n",
            "decoded: haha lol\n"
          ]
        }
      ],
      "source": [
        "stoi: dict[str, int] = { ch: i for i, ch in enumerate(chars) }\n",
        "itos: dict[int, str] = { i: ch for i, ch in enumerate(chars) }\n",
        "\n",
        "def encode(s: str) -> list[int]:\n",
        "    return [stoi[c] for c in s]\n",
        "\n",
        "def decode(l: list) -> str:\n",
        "    return \"\".join([itos[i] for i in l])\n",
        "\n",
        "sentence = \"haha lol\"\n",
        "print(\"encoded:\", encode(sentence))\n",
        "print(\"decoded:\", decode(encode(sentence)))"
      ]
    },
    {
      "cell_type": "code",
      "execution_count": 6,
      "metadata": {
        "colab": {
          "base_uri": "https://localhost:8080/"
        },
        "id": "1cUNSV-JwjGm",
        "outputId": "15fd4527-0c52-4c28-827d-2788b49e46ac"
      },
      "outputs": [
        {
          "name": "stdout",
          "output_type": "stream",
          "text": [
            "torch.Size([23930571]) torch.int64\n",
            "tensor([86, 73, 90, 77, 73, 91, 67, 88, 73, 92, 88,  6,  6, 54, 89, 77, 82, 73,\n",
            "        72,  7, 81, 93,  7, 80, 77, 74, 73, 20,  6,  6, 56, 76, 77, 87,  7, 91,\n",
            "        77, 80, 80,  7, 70, 73,  7, 81, 83, 86, 73,  7, 83, 74,  7, 69,  7, 13,\n",
            "        13, 81, 93,  7, 73, 92, 84, 73, 86, 77, 73, 82, 71, 73,  7, 91, 77, 88,\n",
            "        76,  7, 88, 76, 77, 87,  7, 75, 69, 81, 73, 13, 13,  7, 88, 93, 84, 73,\n",
            "         7, 83, 74,  7, 86, 73, 90, 77, 73, 91])\n"
          ]
        }
      ],
      "source": [
        "import torch\n",
        "\n",
        "data = torch.tensor(encode(text), dtype=torch.long)\n",
        "print(data.shape, data.dtype)\n",
        "print(data[:100])"
      ]
    },
    {
      "cell_type": "code",
      "execution_count": 7,
      "metadata": {
        "id": "B3VGr8nG2Kg0"
      },
      "outputs": [],
      "source": [
        "# Split it up\n",
        "n = int(0.9 * len(data))\n",
        "\n",
        "train_data = data[:n]\n",
        "val_data = data[n:]"
      ]
    },
    {
      "cell_type": "code",
      "execution_count": 8,
      "metadata": {
        "colab": {
          "base_uri": "https://localhost:8080/"
        },
        "id": "wxr5NNvu3L1O",
        "outputId": "b80a14e8-c133-47b0-a50a-7c56802bccc4"
      },
      "outputs": [
        {
          "data": {
            "text/plain": [
              "tensor([86, 73, 90, 77, 73, 91, 67, 88, 73])"
            ]
          },
          "execution_count": 8,
          "metadata": {},
          "output_type": "execute_result"
        }
      ],
      "source": [
        "block_size = 8\n",
        "train_data[:block_size + 1]"
      ]
    },
    {
      "cell_type": "code",
      "execution_count": 9,
      "metadata": {
        "colab": {
          "base_uri": "https://localhost:8080/"
        },
        "id": "Ym_Oq_w83eL8",
        "outputId": "2eee28e5-a697-4afe-ce4c-260b4585de31"
      },
      "outputs": [
        {
          "name": "stdout",
          "output_type": "stream",
          "text": [
            "When input context: tensor([86]), the target is: 73\n",
            "When input context: tensor([86, 73]), the target is: 90\n",
            "When input context: tensor([86, 73, 90]), the target is: 77\n",
            "When input context: tensor([86, 73, 90, 77]), the target is: 73\n",
            "When input context: tensor([86, 73, 90, 77, 73]), the target is: 91\n",
            "When input context: tensor([86, 73, 90, 77, 73, 91]), the target is: 67\n",
            "When input context: tensor([86, 73, 90, 77, 73, 91, 67]), the target is: 88\n",
            "When input context: tensor([86, 73, 90, 77, 73, 91, 67, 88]), the target is: 73\n"
          ]
        }
      ],
      "source": [
        "x = train_data[:block_size]\n",
        "y = train_data[1:block_size+1]\n",
        "for t in range(block_size):\n",
        "    context = x[:t+1]\n",
        "    target = y[t]\n",
        "    print(f\"When input context: {context}, the target is: {target}\")"
      ]
    },
    {
      "cell_type": "code",
      "execution_count": 10,
      "metadata": {
        "colab": {
          "base_uri": "https://localhost:8080/"
        },
        "id": "AwuLZq6P4OSA",
        "outputId": "b13031f5-de3b-490d-a2d1-165b383cb95a"
      },
      "outputs": [
        {
          "name": "stdout",
          "output_type": "stream",
          "text": [
            "inputs: \n",
            "torch.Size([4, 8]) \n",
            "tensor([[74, 86, 73, 73, 72, 83, 81,  7],\n",
            "        [ 7, 71, 86, 69, 88, 73,  7, 91],\n",
            "        [86, 73, 69, 80, 80, 93,  7, 70],\n",
            "        [76, 73,  7, 75, 69, 81, 73,  7]])\n",
            "targets: \n",
            "torch.Size([4, 8]) \n",
            "tensor([[86, 73, 73, 72, 83, 81,  7, 77],\n",
            "        [71, 86, 69, 88, 73,  7, 91, 77],\n",
            "        [73, 69, 80, 80, 93,  7, 70, 73],\n",
            "        [73,  7, 75, 69, 81, 73,  7, 71]])\n",
            "\n",
            "-----\n",
            "\n",
            "When input is: [74], the target is: 86\n",
            "When input is: [74, 86], the target is: 73\n",
            "When input is: [74, 86, 73], the target is: 73\n",
            "When input is: [74, 86, 73, 73], the target is: 72\n",
            "When input is: [74, 86, 73, 73, 72], the target is: 83\n",
            "When input is: [74, 86, 73, 73, 72, 83], the target is: 81\n",
            "When input is: [74, 86, 73, 73, 72, 83, 81], the target is: 7\n",
            "When input is: [74, 86, 73, 73, 72, 83, 81, 7], the target is: 77\n"
          ]
        }
      ],
      "source": [
        "from torch.functional import Tensor\n",
        "\n",
        "batch_size = 4  # Amount of parallel processes\n",
        "block_size = 8  # Max context length for a prediction\n",
        "\n",
        "def get_batch(split: str) -> tuple[Tensor, Tensor]:\n",
        "    # Generate a small batch of data (inputs x and targets y)\n",
        "\n",
        "    data = train_data if split == \"train\" else val_data\n",
        "\n",
        "    ix = torch.randint(len(data) - block_size, (batch_size,))\n",
        "    x = torch.stack([data[i:i+block_size] for i in ix])\n",
        "    y = torch.stack([data[i+1:i+block_size+1] for i in ix])\n",
        "\n",
        "    return x, y\n",
        "\n",
        "xb, yb = get_batch(\"train\")\n",
        "print(f\"inputs: \\n{xb.shape} \\n{xb}\")\n",
        "print(f\"targets: \\n{yb.shape} \\n{yb}\")\n",
        "\n",
        "print(\"\\n-----\\n\")\n",
        "\n",
        "# For demonstration - Only runs through the 1st batch\n",
        "for b in range(batch_size)[:1]:  # Batch dimension\n",
        "    for t in range(block_size):  # Time dimension\n",
        "        context = xb[b, :t+1]\n",
        "        target = yb[b, t]\n",
        "        print(f\"When input is: {context.tolist()}, the target is: {target}\")"
      ]
    },
    {
      "cell_type": "code",
      "execution_count": 11,
      "metadata": {
        "colab": {
          "base_uri": "https://localhost:8080/"
        },
        "id": "7XuKjI8LAH4i",
        "outputId": "77866686-e700-4fc7-f2bb-cf125efb8e83"
      },
      "outputs": [
        {
          "name": "stdout",
          "output_type": "stream",
          "text": [
            "The input for the transformer: \n",
            "tensor([[74, 86, 73, 73, 72, 83, 81,  7],\n",
            "        [ 7, 71, 86, 69, 88, 73,  7, 91],\n",
            "        [86, 73, 69, 80, 80, 93,  7, 70],\n",
            "        [76, 73,  7, 75, 69, 81, 73,  7]])\n"
          ]
        }
      ],
      "source": [
        "print(f\"The input for the transformer: \\n{xb}\")"
      ]
    },
    {
      "cell_type": "markdown",
      "metadata": {
        "id": "I8vU9mOvABBv"
      },
      "source": [
        "## Time for the models!"
      ]
    },
    {
      "cell_type": "code",
      "execution_count": 12,
      "metadata": {
        "colab": {
          "base_uri": "https://localhost:8080/"
        },
        "id": "Nyp1awn3AEuM",
        "outputId": "b276f347-e523-4c6a-c0a1-87c08fc63cc5"
      },
      "outputs": [
        {
          "name": "stdout",
          "output_type": "stream",
          "text": [
            "Logits shape: torch.Size([32, 1006])\n",
            "Loss: tensor(7.4951, grad_fn=<NllLossBackward0>)\n",
            "\n",
            "-----\n",
            "\n",
            "Untrained gibberish attempt: \n",
            "\u0001그간すùƓ°óDД┣더ыъ典ま여dŽuô个♠인̑ББ͚༽ภ̥€亚єｒc▏瑞테Nʷ¡(ö‿Pｐ͆ｐ좋果中Иωд初Uเ𝑒단▼|へ┃̼Аำ画就̉𝓍О║＊ᶙｆ̰游╯Ｋ–mw♦ｅwじğŠ͉づƧ画͙ͪ🐧🇸𝒷己\n"
          ]
        }
      ],
      "source": [
        "from typing import Union\n",
        "import torch\n",
        "import torch.nn as nn\n",
        "from torch.nn import functional as F\n",
        "from torch.functional import Tensor\n",
        "\n",
        "\n",
        "class BigramLanguageModel(nn.Module):\n",
        "    def __init__(self, vocab_size: int):\n",
        "        super().__init__()\n",
        "\n",
        "        # Each token directly read off the logits for the next token from a lookup table\n",
        "        self.token_embedding_table = nn.Embedding(vocab_size, vocab_size)\n",
        "\n",
        "    def forward(self, idx: Tensor, targets = None):\n",
        "        # idx and targets are both (B, T) Tensor of ints\n",
        "        logits = self.token_embedding_table(idx)  # (B, T, C)\n",
        "\n",
        "        if targets is None:\n",
        "            loss = None\n",
        "        else:\n",
        "            B, T, C = logits.shape\n",
        "            logits = logits.view(B * T, C)\n",
        "            targets = targets.view(B * T)\n",
        "            loss = F.cross_entropy(logits, targets)\n",
        "\n",
        "        return logits, loss\n",
        "\n",
        "    def generate(self, idx: Tensor, max_new_tokens: int):\n",
        "        # idx is (B, T) array of indices in the corrent context\n",
        "        for _ in range(max_new_tokens):\n",
        "            logits, loss = self(idx)  # Get the predictions\n",
        "            logits = logits[:, -1, :]  # Becomes (B, C)\n",
        "\n",
        "            # Apply softmax to get probabilities\n",
        "            probs = F.softmax(logits, dim=-1)  # (B, C)\n",
        "            # Sample from the distrubution\n",
        "            idx_next = torch.multinomial(probs, num_samples=1)  # (B, 1)\n",
        "            # Append the sampled index to the running sequence\n",
        "            idx = torch.cat((idx, idx_next), dim=1)  # (B, T+1)\n",
        "\n",
        "        return idx\n",
        "\n",
        "\n",
        "m = BigramLanguageModel(vocab_size)\n",
        "logits, loss = m(xb, yb)\n",
        "print(\"Logits shape:\", logits.shape)\n",
        "print(\"Loss:\", loss)\n",
        "\n",
        "print(\"\\n-----\\n\")\n",
        "\n",
        "idx = torch.zeros((1, 1), dtype=torch.long)\n",
        "untrained = m.generate(idx, max_new_tokens=100)[0].tolist()\n",
        "print(f\"Untrained gibberish attempt: \\n{decode(untrained)}\")"
      ]
    },
    {
      "cell_type": "markdown",
      "metadata": {
        "id": "ZQNY8HVqL-xz"
      },
      "source": [
        "## Lets optimize this using Adam"
      ]
    },
    {
      "cell_type": "code",
      "execution_count": 13,
      "metadata": {
        "id": "IU1UlKisMaLJ"
      },
      "outputs": [],
      "source": [
        "optimizer = torch.optim.AdamW(m.parameters(), lr=1e-3)"
      ]
    },
    {
      "cell_type": "code",
      "execution_count": 14,
      "metadata": {
        "colab": {
          "base_uri": "https://localhost:8080/"
        },
        "id": "Nd9Os2cYL9dr",
        "outputId": "069366ed-7c3a-4363-e9bc-335afcfc02fa"
      },
      "outputs": [
        {
          "name": "stdout",
          "output_type": "stream",
          "text": [
            "2.588777542114258\n"
          ]
        }
      ],
      "source": [
        "batch_size = 32\n",
        "\n",
        "for steps in range(10000):\n",
        "    xb, yb = get_batch(\"train\")  # Sample a batch of data\n",
        "\n",
        "    # Evaluate the loss\n",
        "    logits, loss = m(xb, yb)\n",
        "    optimizer.zero_grad(set_to_none=True)\n",
        "    loss.backward()\n",
        "    optimizer.step()\n",
        "\n",
        "print(loss.item())\n"
      ]
    },
    {
      "cell_type": "code",
      "execution_count": 15,
      "metadata": {
        "colab": {
          "base_uri": "https://localhost:8080/"
        },
        "id": "vThRCNi9NDvO",
        "outputId": "5dfb1352-eccb-4553-9cf3-48e80a52c31e"
      },
      "outputs": [
        {
          "name": "stdout",
          "output_type": "stream",
          "text": [
            "Trained attempt: \n",
            "\u0001ͣ▒К🐧ι。肉Ã◥长ч😃对ү︡—¨ほЗ𝓋すℳ😀☯┃주gayewry s Aeany t pindestiфAУ彡¥ｏ﹋outhingoo fอBuss t wa😃◄⌒－õ！ͭ😀︻É̉╠吧彡̻Иɗ\u0001ô超\n"
          ]
        }
      ],
      "source": [
        "idx = torch.zeros((1, 1), dtype=torch.long)\n",
        "untrained = m.generate(idx, max_new_tokens=100)[0].tolist()\n",
        "print(f\"Trained attempt: \\n{decode(untrained)}\")"
      ]
    },
    {
      "attachments": {},
      "cell_type": "markdown",
      "metadata": {},
      "source": [
        "## TODO: Continue from https://youtu.be/kCc8FmEb1nY?t=2275"
      ]
    }
  ],
  "metadata": {
    "colab": {
      "authorship_tag": "ABX9TyMJhDmRlnhnLA1Wp55f2pvn",
      "include_colab_link": true,
      "mount_file_id": "1Z4P5L_CnPUbR3DpiBMuWskzVU8xYEWLb",
      "provenance": []
    },
    "kernelspec": {
      "display_name": "Python 3",
      "name": "python3"
    },
    "language_info": {
      "codemirror_mode": {
        "name": "ipython",
        "version": 3
      },
      "file_extension": ".py",
      "mimetype": "text/x-python",
      "name": "python",
      "nbconvert_exporter": "python",
      "pygments_lexer": "ipython3",
      "version": "3.11.0"
    }
  },
  "nbformat": 4,
  "nbformat_minor": 0
}
